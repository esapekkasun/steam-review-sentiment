{
 "cells": [
  {
   "cell_type": "code",
   "execution_count": 2,
   "id": "67f5abc6-f417-4730-9c87-8e00ff378a08",
   "metadata": {},
   "outputs": [],
   "source": [
    "import torch\n",
    "import torch.nn as nn\n",
    "import pandas as pd\n",
    "from torchtext.data import get_tokenizer\n",
    "from torchtext.vocab import vocab\n",
    "import matplotlib.pyplot as plt\n",
    "from collections import OrderedDict"
   ]
  },
  {
   "cell_type": "code",
   "execution_count": 3,
   "id": "05b84096-0880-41ae-9534-50c814ae151e",
   "metadata": {},
   "outputs": [],
   "source": [
    "# Load tokens (10000 most frequent words in reviews)\n",
    "filename = \"../data/tokens_list_10k.csv\"\n",
    "tokens = pd.read_csv(filename).drop(\"Unnamed: 0\", axis=1)\n",
    "n_tokens = len(tokens)\n",
    "\n",
    "# Store in Pandas series and index for fast checking of indices\n",
    "ts = pd.Series(tokens[\"token\"], tokens.index)\n",
    "ts_i = pd.Index(ts)"
   ]
  },
  {
   "cell_type": "code",
   "execution_count": 4,
   "id": "838df007-494c-471d-8bcb-e00c9fa77d4d",
   "metadata": {},
   "outputs": [],
   "source": [
    "# Build vocabulary from 10000 most frequent tokens\n",
    "tokens_dict = tokens.set_index(\"token\")[\"frequency\"].to_dict(OrderedDict)\n",
    "vocabulary = vocab(tokens_dict, specials=[\"<UNKNOWN>\"])\n",
    "vocabulary.set_default_index(vocabulary[\"<UNKNOWN>\"])"
   ]
  },
  {
   "cell_type": "code",
   "execution_count": 5,
   "id": "5976c1e7-b3c3-4fe2-818a-209fbdde9d8f",
   "metadata": {},
   "outputs": [
    {
     "data": {
      "text/plain": [
       "[2, 26, 7, 1]"
      ]
     },
     "execution_count": 5,
     "metadata": {},
     "output_type": "execute_result"
    }
   ],
   "source": [
    "# Initialize tokenizer and test vocabulary\n",
    "tokenizer = get_tokenizer(\"basic_english\")\n",
    "vocabulary(tokenizer(\"the good game.\"))"
   ]
  },
  {
   "cell_type": "code",
   "execution_count": 15,
   "id": "d60425b5-3647-4428-9d11-64a9583c8045",
   "metadata": {},
   "outputs": [],
   "source": [
    "# Device configuration\n",
    "device = torch.device('cuda' if torch.cuda.is_available() else 'cpu')\n",
    "\n",
    "# Hyper-parameters\n",
    "max_words = 25\n",
    "batch_size = 10000\n",
    "embedding_size = 50\n",
    "learning_rate = 0.001\n",
    "hidden_size = 50\n",
    "num_layers = 1"
   ]
  },
  {
   "cell_type": "code",
   "execution_count": 16,
   "id": "4e36eac1-5eff-452d-9efe-d1a7929b95e8",
   "metadata": {},
   "outputs": [],
   "source": [
    "# Function to create tensors from batch of data\n",
    "def batch_to_tensors(reviews, sentiments):\n",
    "    \n",
    "    X = [vocabulary(tokenizer(text)) if type(text) == str else [0] * max_words for text in reviews]\n",
    "    X = [tokens + ([0] * (max_words-len(tokens))) if len(tokens) < max_words else tokens[:max_words] for tokens in X]\n",
    "    Y = [[s] for s in sentiments]\n",
    "    return torch.tensor(X, dtype=torch.int32, device=device), torch.tensor(Y, dtype=torch.float, device=device)"
   ]
  },
  {
   "cell_type": "code",
   "execution_count": 17,
   "id": "b144785d-0afa-4cd4-bbf5-6f4e1bbf0aab",
   "metadata": {},
   "outputs": [
    {
     "data": {
      "text/plain": [
       "(tensor([[ 26,   7,   1,   0,   0,   0,   0,   0,   0,   0,   0,   0,   0,   0,\n",
       "            0,   0,   0,   0,   0,   0,   0,   0,   0,   0,   0],\n",
       "         [178, 631,   0,   0,   0,   0,   0,   0,   0,   0,   0,   0,   0,   0,\n",
       "            0,   0,   0,   0,   0,   0,   0,   0,   0,   0,   0]],\n",
       "        device='cuda:0', dtype=torch.int32),\n",
       " tensor([[1.],\n",
       "         [1.]], device='cuda:0'))"
      ]
     },
     "execution_count": 17,
     "metadata": {},
     "output_type": "execute_result"
    }
   ],
   "source": [
    "batch_to_tensors([\"good game.\", \"yes true\"], [1, 1])"
   ]
  },
  {
   "cell_type": "code",
   "execution_count": 18,
   "id": "60358c00-c1a3-4018-9113-78c8fe3525de",
   "metadata": {},
   "outputs": [],
   "source": [
    "# Recurrent neural network with one hidden layer\n",
    "class RNN(nn.Module):\n",
    "\n",
    "    def __init__(self, embedding_size, hidden_size, num_layers):\n",
    "        super(RNN, self).__init__()\n",
    "        self.num_layers = num_layers\n",
    "        self.hidden_size = hidden_size\n",
    "        self.embedding = nn.Embedding(len(vocabulary), embedding_size)\n",
    "        self.rnn = nn.RNN(embedding_size, hidden_size, num_layers,\n",
    "                          batch_first=True, nonlinearity=\"relu\")\n",
    "        self.linear = nn.Linear(hidden_size, 1)\n",
    "\n",
    "    def forward(self, X_batch):\n",
    "        # Set initial hidden states\n",
    "        h0 = torch.zeros(self.num_layers, len(X_batch), self.hidden_size).to(device)\n",
    "\n",
    "        # Calculate embeddings\n",
    "        embeddings = self.embedding(X_batch)\n",
    "\n",
    "        # Forward propagate RNN\n",
    "        output, hidden = self.rnn(embeddings, h0)\n",
    "\n",
    "        # Decode the hidden state of the last step\n",
    "        return self.linear(output[:,-1])\n"
   ]
  },
  {
   "cell_type": "code",
   "execution_count": 19,
   "id": "ef7bd2d1-5d12-4a8f-aef7-12c57bfc52d6",
   "metadata": {},
   "outputs": [],
   "source": [
    "# Create model\n",
    "model = RNN(embedding_size, hidden_size, num_layers).to(device)\n",
    "\n",
    "# Loss and optimizer\n",
    "criterion = nn.BCEWithLogitsLoss()\n",
    "optimizer = torch.optim.Adam(model.parameters(), lr=learning_rate)"
   ]
  },
  {
   "cell_type": "code",
   "execution_count": 20,
   "id": "4c9217f3-e8fc-4b39-9098-22aaa2a5d316",
   "metadata": {},
   "outputs": [
    {
     "data": {
      "text/plain": [
       "RNN(\n",
       "  (embedding): Embedding(10001, 50)\n",
       "  (rnn): RNN(50, 50, batch_first=True)\n",
       "  (linear): Linear(in_features=50, out_features=1, bias=True)\n",
       ")"
      ]
     },
     "execution_count": 20,
     "metadata": {},
     "output_type": "execute_result"
    }
   ],
   "source": [
    "model"
   ]
  },
  {
   "cell_type": "code",
   "execution_count": 21,
   "id": "caa66247-1ce5-4bf1-ab38-e9fb9af498a1",
   "metadata": {},
   "outputs": [],
   "source": [
    "# Function for training with a single batch\n",
    "def train(X, Y):\n",
    "\n",
    "    # Do forward pass\n",
    "    output = model(X)\n",
    "\n",
    "    # Calculate loss\n",
    "    loss = criterion(output, Y)\n",
    "\n",
    "    # Reset gradients and do backward propagation\n",
    "    optimizer.zero_grad()\n",
    "    loss.backward()\n",
    "\n",
    "    # Update weights\n",
    "    optimizer.step()\n",
    "    \n",
    "    return output, loss.item()"
   ]
  },
  {
   "cell_type": "code",
   "execution_count": 22,
   "id": "f5ab42d1-5ebf-46f5-b095-48e61e53f961",
   "metadata": {},
   "outputs": [
    {
     "name": "stdout",
     "output_type": "stream",
     "text": [
      " 5 % done, loss: 0.6655\n",
      "10 % done, loss: 0.5635\n",
      "15 % done, loss: 0.5027\n",
      "20 % done, loss: 0.4563\n",
      "25 % done, loss: 0.2538\n",
      "30 % done, loss: 0.5465\n",
      "35 % done, loss: 0.4490\n",
      "40 % done, loss: 0.3742\n",
      "45 % done, loss: 0.4531\n",
      "50 % done, loss: 0.3372\n",
      "55 % done, loss: 0.5501\n",
      "60 % done, loss: 0.4176\n",
      "65 % done, loss: 0.3453\n",
      "70 % done, loss: 0.1983\n",
      "75 % done, loss: 0.1530\n",
      "80 % done, loss: 0.1185\n",
      "85 % done, loss: 0.1046\n",
      "90 % done, loss: 0.1057\n",
      "95 % done, loss: 0.0841\n",
      "100 % done, loss: 0.0997\n"
     ]
    }
   ],
   "source": [
    "# Read data and train model\n",
    "filename = \"../data/all_reviews/all_reviews_english.csv\"\n",
    "current_loss = 0\n",
    "all_losses = []\n",
    "plot_steps, print_steps = 1, 5\n",
    "n_iters = 100\n",
    "i = 0\n",
    "with pd.read_csv(filename, chunksize=batch_size) as reader:\n",
    "    for chunk in reader:\n",
    "        i = i + 1\n",
    "        if i > n_iters:\n",
    "            break\n",
    "        #chunk.dropna()\n",
    "        X, Y = batch_to_tensors(chunk[\"review\"], chunk[\"voted_up\"])\n",
    "        output, loss = train(X, Y)\n",
    "        current_loss += loss\n",
    "\n",
    "        # Append loss for plotting\n",
    "        if (i+1) % plot_steps == 0:\n",
    "            all_losses.append(current_loss)\n",
    "            current_loss = 0\n",
    "\n",
    "        # Print information\n",
    "        if (i+1) % print_steps == 0:\n",
    "            print(f\"{(i+1)/n_iters*100:2.0f} % done, loss: {loss:.4f}\")\n"
   ]
  },
  {
   "cell_type": "code",
   "execution_count": 23,
   "id": "d4d86669-a76b-466f-ada4-7274ff49476a",
   "metadata": {},
   "outputs": [
    {
     "data": {
      "text/plain": [
       "[<matplotlib.lines.Line2D at 0x1982cd2c1d0>]"
      ]
     },
     "execution_count": 23,
     "metadata": {},
     "output_type": "execute_result"
    },
    {
     "data": {
      "image/png": "[encoded data removed]",
      "text/plain": [
       "<Figure size 640x480 with 1 Axes>"
      ]
     },
     "metadata": {},
     "output_type": "display_data"
    }
   ],
   "source": [
    "plt.plot(all_losses)"
   ]
  },
  {
   "cell_type": "code",
   "execution_count": 24,
   "id": "b1984cfc-26e5-4c0b-9b18-0a968dd4b9d8",
   "metadata": {},
   "outputs": [],
   "source": [
    "def predict(text):\n",
    "    print(f\"\\n> {text}\")\n",
    "    with torch.no_grad():\n",
    "        X, Y = batch_to_tensors([text], [0])\n",
    "        output = model(X)\n",
    "        guess = (output[0][0] >= 0.5)\n",
    "        print(guess, output)"
   ]
  },
  {
   "cell_type": "code",
   "execution_count": 26,
   "id": "ef090522-5d27-4740-94ae-1621734b6199",
   "metadata": {},
   "outputs": [
    {
     "name": "stdout",
     "output_type": "stream",
     "text": [
      "\n",
      "> this is a very poor game and i don't like it\n",
      "tensor(True, device='cuda:0') tensor([[4.1774]], device='cuda:0')\n"
     ]
    }
   ],
   "source": [
    "predict(\"this is a very poor game and i don't like it\")"
   ]
  }
 ],
 "metadata": {
  "kernelspec": {
   "display_name": "Python 3 (ipykernel)",
   "language": "python",
   "name": "python3"
  },
  "language_info": {
   "codemirror_mode": {
    "name": "ipython",
    "version": 3
   },
   "file_extension": ".py",
   "mimetype": "text/x-python",
   "name": "python",
   "nbconvert_exporter": "python",
   "pygments_lexer": "ipython3",
   "version": "3.11.7"
  }
 },
 "nbformat": 4,
 "nbformat_minor": 5
}
